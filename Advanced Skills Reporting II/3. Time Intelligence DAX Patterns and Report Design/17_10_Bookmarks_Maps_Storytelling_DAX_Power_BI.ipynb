{
 "cells": [
  {
   "cell_type": "markdown",
   "metadata": {},
   "source": [
    "# Welcome to Power BI lecture\n",
    "\n",
    "---"
   ]
  },
  {
   "cell_type": "markdown",
   "metadata": {},
   "source": [
    "## Table of contents\n"
   ]
  },
  {
   "cell_type": "markdown",
   "metadata": {},
   "source": [
    "### Use of Bookmarks\n",
    "1. Understand the use of Bookmarks\n",
    "\n",
    "\n",
    "### Maps\n",
    "\n",
    "1. How to create a map\n",
    "2. Understanding different obstacles when using maps\n"
   ]
  },
  {
   "cell_type": "markdown",
   "metadata": {},
   "source": [
    "### Storytelling and Intro to DAX\n",
    "\n",
    "1. Understanding design principle\n",
    "2. Understanding role of data integrity, data richness and data density\n",
    "3. Comparing two different dashboards\n",
    "4. Process of Data Story telling\n",
    "5. Understanding the basics of DAX\n",
    "6. Comprehending the use of Measure, columns and Tables\n"
   ]
  },
  {
   "cell_type": "markdown",
   "metadata": {},
   "source": [
    "### Case Study 1: Use of Bookmarks\n",
    "\n",
    "1. Different intelligent use of bookmarks\n",
    "2. Practical exercises in implementation of slic- ers and filters\n"
   ]
  },
  {
   "cell_type": "markdown",
   "metadata": {},
   "source": [
    "### Case Study 2: Tree map, KPI and Forecasting\n",
    "\n",
    "1. Understand the use of Treemap, KPI and forecasting\n",
    "2. Practical exercises in Treemap, KPI and fore- casting\n"
   ]
  },
  {
   "cell_type": "markdown",
   "metadata": {},
   "source": [
    "---\n",
    "---"
   ]
  },
  {
   "cell_type": "markdown",
   "metadata": {},
   "source": [
    "### Skills for today\n",
    "\n",
    "1. Use of Bookmarks\n",
    "2. Explain the use of maps\n",
    "3. Explain how to proceed with storytelling\n",
    "4. Understanding the basics of DAX\n",
    "5. Explain the use of Measure, columns and Tables\n"
   ]
  },
  {
   "cell_type": "markdown",
   "metadata": {},
   "source": [
    "---\n",
    "---"
   ]
  },
  {
   "cell_type": "markdown",
   "metadata": {},
   "source": [
    "### Task for today\n",
    "\n",
    "Dashboard over some of these visuals on the \"financials\" dataset using custom measures created with DAX, Bookmarks, Maps and following a Story:\n",
    "\n",
    "1. Bar Chart\n",
    "2. Line Chart\n",
    "3. Pie Chart\n",
    "4. Area Chart\n",
    "5. Scatter Plot\n",
    "6. Treemap\n",
    "7. Gauge\n",
    "8. Card\n",
    "9. Table\n",
    "10. Matrix\n",
    "11. KPI\n",
    "12. Slicer"
   ]
  },
  {
   "cell_type": "markdown",
   "metadata": {},
   "source": [
    "---\n",
    "---"
   ]
  },
  {
   "cell_type": "markdown",
   "metadata": {},
   "source": [
    "# Additional Information\n",
    "\n",
    "---"
   ]
  }
 ],
 "metadata": {
  "language_info": {
   "name": "python"
  }
 },
 "nbformat": 4,
 "nbformat_minor": 2
}
