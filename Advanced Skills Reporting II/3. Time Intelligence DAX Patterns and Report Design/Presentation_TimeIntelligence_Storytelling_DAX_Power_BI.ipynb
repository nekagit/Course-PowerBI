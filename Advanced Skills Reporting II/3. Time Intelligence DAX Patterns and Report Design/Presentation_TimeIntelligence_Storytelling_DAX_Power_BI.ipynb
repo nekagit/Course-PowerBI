{
 "cells": [
  {
   "cell_type": "markdown",
   "metadata": {},
   "source": [
    "# Welcome to Power BI lecture\n",
    "\n",
    "---"
   ]
  },
  {
   "cell_type": "markdown",
   "metadata": {},
   "source": [
    "## Table of contents\n"
   ]
  },
  {
   "cell_type": "markdown",
   "metadata": {},
   "source": [
    "### Understanding DAX function summary\n",
    "- Understand the use of DAX functions\n",
    "\n",
    "\n",
    "### Time Intelligence DAX Patterns\n",
    "- Define time intelligence\n",
    "- Use time intelligence functions\n",
    "- Understand common time intelligence patterns\n"
   ]
  },
  {
   "cell_type": "markdown",
   "metadata": {},
   "source": [
    "### Advanced Report Design Principles\n",
    "- Understand the importance of data storytelling\n",
    "- Plan report layout, user interface and flow\n",
    "- Utilize best practices for custom report navigation, report tooltips and drill-through options\n"
   ]
  },
  {
   "cell_type": "markdown",
   "metadata": {},
   "source": [
    "### Row-Level Security\n",
    "- Define RLS\n",
    "- Implement Static RLS\n",
    "- Implement Dynamic RLS"
   ]
  },
  {
   "cell_type": "markdown",
   "metadata": {},
   "source": [
    "### Case Study 1: Use of time intelligence DAX patterns\n",
    "- Understand the use of time intelligence DAX\n",
    "- Practical exercises in time intelligence DAX\n"
   ]
  },
  {
   "cell_type": "markdown",
   "metadata": {},
   "source": [
    "---\n",
    "---"
   ]
  },
  {
   "cell_type": "markdown",
   "metadata": {},
   "source": [
    "### Skills for today\n",
    "\n",
    "- Use of time intelligence DAX patterns\n",
    "- Explain the Advanced Report Design Principles\n",
    "- Explain the bestpractices and tooltips\n",
    "- Understanding the basics of RLS\n",
    "- Explain the use of Static RLS and Dynamic RLS\n"
   ]
  },
  {
   "cell_type": "markdown",
   "metadata": {},
   "source": [
    "---\n",
    "---"
   ]
  },
  {
   "cell_type": "markdown",
   "metadata": {},
   "source": [
    "### Task for today\n",
    "\n",
    "Dashboard over some of these visuals on the \"financials\" dataset using custom measures created with DAX, Time Intelligence Functions, and following a Story:\n",
    "\n",
    "1. Bar Chart\n",
    "2. Line Chart\n",
    "3. Pie Chart\n",
    "4. Area Chart\n",
    "5. Scatter Plot\n",
    "6. Treemap\n",
    "7. Gauge\n",
    "8. Card\n",
    "9. Table\n",
    "10. Matrix\n",
    "11. KPI\n",
    "12. Slicer"
   ]
  },
  {
   "cell_type": "markdown",
   "metadata": {},
   "source": [
    "---\n",
    "---"
   ]
  },
  {
   "cell_type": "markdown",
   "metadata": {},
   "source": [
    "# Additional Information\n",
    "\n",
    "---"
   ]
  }
 ],
 "metadata": {
  "language_info": {
   "name": "python"
  }
 },
 "nbformat": 4,
 "nbformat_minor": 2
}
