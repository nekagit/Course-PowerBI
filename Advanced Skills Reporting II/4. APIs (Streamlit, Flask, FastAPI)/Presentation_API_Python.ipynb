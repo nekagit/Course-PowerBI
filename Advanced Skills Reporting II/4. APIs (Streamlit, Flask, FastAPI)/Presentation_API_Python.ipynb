{
 "cells": [
  {
   "cell_type": "markdown",
   "metadata": {},
   "source": [
    "# Welcome to Python API Lecture\n",
    "\n",
    "---"
   ]
  },
  {
   "cell_type": "markdown",
   "metadata": {},
   "source": [
    "- What is an API? Importance and use cases\n",
    "- Flask basics. Creating a simple API\n",
    "- Creating basic HTTP requests with Flask\n"
   ]
  },
  {
   "cell_type": "markdown",
   "metadata": {},
   "source": [
    "- FastAPI basics. Creating and managing APIs with FastAPI\n",
    "- Async programming with fast api\n"
   ]
  },
  {
   "cell_type": "markdown",
   "metadata": {},
   "source": [
    "- Streamlit basics Building interactive web applications\n",
    "- Comparison between different APIs"
   ]
  },
  {
   "cell_type": "markdown",
   "metadata": {},
   "source": [
    "- Deployment strategies. Testing APIs for performance and reliability\n",
    "- API development best practices. Security and maintenance"
   ]
  },
  {
   "cell_type": "markdown",
   "metadata": {},
   "source": [
    "---\n",
    "---"
   ]
  },
  {
   "cell_type": "markdown",
   "metadata": {},
   "source": [
    "### Skills for today\n",
    "\n",
    "- Understanding basics of API development\n",
    "- Building simple APIs with Flask\n",
    "- Creating advanced APIs with FastAPI\n",
    "- Building interactive web applications with Streamlit\n",
    "- Deploying and testing APIs\n"
   ]
  },
  {
   "cell_type": "markdown",
   "metadata": {},
   "source": [
    "---\n",
    "---"
   ]
  },
  {
   "cell_type": "markdown",
   "metadata": {},
   "source": [
    "# Additional Information\n",
    "\n",
    "---"
   ]
  }
 ],
 "metadata": {
  "language_info": {
   "name": "python"
  }
 },
 "nbformat": 4,
 "nbformat_minor": 2
}
