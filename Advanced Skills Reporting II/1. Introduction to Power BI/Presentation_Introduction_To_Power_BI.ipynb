{
 "cells": [
  {
   "cell_type": "markdown",
   "metadata": {},
   "source": [
    "# Welcome to Power BI lecture\n",
    "\n",
    "---"
   ]
  },
  {
   "cell_type": "markdown",
   "metadata": {},
   "source": [
    "## Table of contents\n"
   ]
  },
  {
   "cell_type": "markdown",
   "metadata": {},
   "source": [
    "### Brief Introduction to Power BI (9.00 – 10.00 am)\n",
    "\n",
    "1. Learning about different ways to use Power BI\n",
    "2. Getting to know about different layers of Power BI\n",
    "3. Understanding about the various parts of Power BI Desktop\n",
    "\n",
    "##### Helpful Links\n",
    "1. [Online Browser Tutorial by GeeksForGeeks](https://www.geeksforgeeks.org/power-bi-tutorial/)\n",
    "\n",
    "2. [Youtube Tutorial by Avi Singh (5 Million views)](https://www.youtube.com/watch?v=AGrl-H87pRU&t=3s&ab_channel=AviSingh-PowerBIPro)\n",
    "\n",
    "3. [Power BI Cheat Sheet](https://www.datacamp.com/cheat-sheet/power-bi-cheat-sheet)"
   ]
  },
  {
   "cell_type": "markdown",
   "metadata": {},
   "source": [
    "### Creating a simple dashboard (10.15 – 12.00 pm)\n",
    "\n",
    "\n",
    "1. Getting to know about different types of visualization\n",
    "2. Understanding the use of slicers, piechart, cards and donut chart\n",
    "3. Create a simple dashboard from scratch\n",
    "4. Understanding when to use visualization"
   ]
  },
  {
   "cell_type": "markdown",
   "metadata": {},
   "source": [
    "### Case Study 1: Applying different types of charts and investigation (1.00 – 3.00 pm)\n",
    "\n",
    "1. Use of different types of charts with a new power BI report\n",
    "2. Practical exercises in creating reports"
   ]
  },
  {
   "cell_type": "markdown",
   "metadata": {},
   "source": [
    "---\n",
    "---"
   ]
  },
  {
   "cell_type": "markdown",
   "metadata": {},
   "source": [
    "### Skills for today\n",
    "\n",
    "1. Learn about layers of Power BI\n",
    "2. Connect data source\n",
    "3. Explain parts of Power BI tools\n",
    "4. Explain different types of charts and when to use what type of visualization\n",
    "5. Create a simple dashboard\n",
    "\n",
    "---\n",
    "### Skills second part\n",
    "\n",
    "1. Learn connection methods and performance issues\n",
    "2. Understand storage modes\n",
    "3. Explain data shape transformations\n",
    "4. Increase the structure of data\n",
    "5. Profile and examine the data"
   ]
  },
  {
   "cell_type": "markdown",
   "metadata": {},
   "source": [
    "---\n",
    "---"
   ]
  },
  {
   "cell_type": "markdown",
   "metadata": {},
   "source": [
    "### Task for today\n",
    "\n",
    "1. Setup Power BI with financials\n",
    "2. Open Power Query \n",
    "    1. Profile and examine the data\n",
    "    2. Sort the Date ascending\n",
    "    3. Create Duplicate\n",
    "    4. Filter all negative Profits\n",
    "    5. Remove 1 column of your choice\n",
    "    6. Apply changes\n",
    "3. Open Model View\n",
    "    1. Create Hierarchy for Dates, Years, Month Number\n",
    "4. Create following Dashboard and apply Drill Through with Hierarchy\n",
    "\n",
    "Dashboard no formatting necessary, yet not forbidden, \n",
    "over these visuals on the \"financials\" dataset:\n",
    "\n",
    "1. Bar Chart\n",
    "2. Line Chart\n",
    "3. Pie Chart\n",
    "4. Area Chart\n",
    "5. Scatter Plot\n",
    "6. Treemap\n",
    "7. Gauge\n",
    "8. Card\n",
    "9. Table\n",
    "10. Matrix\n",
    "11. KPI\n",
    "12. Slicer"
   ]
  },
  {
   "cell_type": "markdown",
   "metadata": {},
   "source": [
    "<img src=\"Pasted image 20241014220134.png\" alt=\"Alt text\">\n"
   ]
  },
  {
   "cell_type": "markdown",
   "metadata": {},
   "source": [
    "---\n",
    "---"
   ]
  },
  {
   "cell_type": "markdown",
   "metadata": {},
   "source": [
    "# Information regarding upper Tasks\n",
    "\n",
    "---"
   ]
  },
  {
   "cell_type": "markdown",
   "metadata": {},
   "source": [
    "### Installation of Power BI on MAC\n",
    "Installing Power BI on a Mac can be a bit tricky since Microsoft doesn't offer a native version for macOS. However, you can still use Power BI on a Mac through a few different methods. Here’s how you can do it:\n",
    "\n",
    "### Using a Virtual Machine\n",
    "\n",
    "1. **Install Virtualization Software:**\n",
    "   - Download and install a virtualization software like **Parallels Desktop**, **VMware Fusion**, or **VirtualBox**.\n",
    "\n",
    "2. **Set Up Windows:**\n",
    "   - Create a new virtual machine and install Windows. You’ll need a Windows license for this.\n",
    "\n",
    "3. **Install Power BI Desktop:**\n",
    "   - Once Windows is running, open a web browser within the virtual machine.\n",
    "   - Go to the [Power BI Desktop download page](https://powerbi.microsoft.com/desktop/) and download the installer.\n",
    "   - Follow the installation prompts to install Power BI Desktop.\n",
    "\n",
    "https://www.youtube.com/watch?v=yaaYg1EeSTw"
   ]
  }
 ],
 "metadata": {
  "language_info": {
   "name": "python"
  }
 },
 "nbformat": 4,
 "nbformat_minor": 2
}
