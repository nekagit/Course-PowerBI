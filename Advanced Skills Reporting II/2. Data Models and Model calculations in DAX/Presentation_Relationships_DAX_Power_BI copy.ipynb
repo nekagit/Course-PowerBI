{
 "cells": [
  {
   "cell_type": "markdown",
   "metadata": {},
   "source": [
    "# Welcome to Power BI lecture\n",
    "\n",
    "---"
   ]
  },
  {
   "cell_type": "markdown",
   "metadata": {},
   "source": [
    "## Table of contents\n"
   ]
  },
  {
   "cell_type": "markdown",
   "metadata": {},
   "source": [
    "### Design a data model\n",
    "- Define relationships and their cardinality\n",
    "- Implement Dimensions and Hierarchies\n",
    "- Understanding filter propagation"
   ]
  },
  {
   "cell_type": "markdown",
   "metadata": {},
   "source": [
    "### Create Model Calculations using DAX\n",
    "- Understand DAX functions\n",
    "- Creating a calculated Data table using DAX\n",
    "- Use DAX for formulas and expressions\n",
    "- Create calculated tables and measures\n",
    "- Build dynamic measures"
   ]
  },
  {
   "cell_type": "markdown",
   "metadata": {},
   "source": [
    "### CALCULATE Function & Modifiers\n",
    "- Use the Calculate function\n",
    "- Use filter modifier functions within Calculate\n",
    "- Examine filter context"
   ]
  },
  {
   "cell_type": "markdown",
   "metadata": {},
   "source": [
    "### Case Study 1: Case Study 1: Applying DAX\n",
    "\n",
    "1. Practical exercises in DAX"
   ]
  },
  {
   "cell_type": "markdown",
   "metadata": {},
   "source": [
    "### Case Study 2: Using Data Model and calculate\n",
    "\n",
    "1. Practical exercises in calculate function"
   ]
  },
  {
   "cell_type": "markdown",
   "metadata": {},
   "source": [
    "---\n",
    "---"
   ]
  },
  {
   "cell_type": "markdown",
   "metadata": {},
   "source": [
    "### Skills for today\n",
    "\n",
    "- Understand about relationships and their cardinality\n",
    "- Filter propagation\n",
    "- Explain Model Calculations using DAX\n",
    "- Comprehending dynamic measures\n",
    "- Use of CALCULATE Function & Modifiers\n",
    "\n"
   ]
  },
  {
   "cell_type": "markdown",
   "metadata": {},
   "source": [
    "---\n",
    "---"
   ]
  },
  {
   "cell_type": "markdown",
   "metadata": {},
   "source": [
    "### Task for today\n",
    "\n",
    "Dashboard over some of these visuals on the \"financials\" dataset using custom measures created with DAX:\n",
    "\n",
    "1. Bar Chart\n",
    "2. Line Chart\n",
    "3. Pie Chart\n",
    "4. Area Chart\n",
    "5. Scatter Plot\n",
    "6. Treemap\n",
    "7. Gauge\n",
    "8. Card\n",
    "9. Table\n",
    "10. Matrix\n",
    "11. KPI\n",
    "12. Slicer"
   ]
  },
  {
   "cell_type": "markdown",
   "metadata": {},
   "source": [
    "---\n",
    "---"
   ]
  },
  {
   "cell_type": "markdown",
   "metadata": {},
   "source": [
    "# Additional Information\n",
    "\n",
    "---"
   ]
  }
 ],
 "metadata": {
  "language_info": {
   "name": "python"
  }
 },
 "nbformat": 4,
 "nbformat_minor": 2
}
