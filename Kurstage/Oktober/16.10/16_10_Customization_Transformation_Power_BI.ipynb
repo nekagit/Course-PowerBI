{
 "cells": [
  {
   "cell_type": "markdown",
   "metadata": {},
   "source": [
    "# Welcome to Power BI lecture\n",
    "\n",
    "---"
   ]
  },
  {
   "cell_type": "markdown",
   "metadata": {},
   "source": [
    "## Table of contents\n"
   ]
  },
  {
   "cell_type": "markdown",
   "metadata": {},
   "source": [
    "### Build a BI report with formatting techniques\n",
    "1. Formatting plot (images, title, style), format painting, remove axis, legend,switch, alter, rename\n",
    "2. Learning about radio gauge meter"
   ]
  },
  {
   "cell_type": "markdown",
   "metadata": {},
   "source": [
    "### Customization\n",
    "\n",
    "1. Customization of visuals and reports\n",
    "2. Understanding basics of conditional formatting\n",
    "3. Understanding different levels of visual filters, page level filters, report level filter and drill through level filter"
   ]
  },
  {
   "cell_type": "markdown",
   "metadata": {},
   "source": [
    "### Interactive visuals, transformation and relationships\n",
    "\n",
    "1. Understanding the basics of interactive visuals\n",
    "2. Introduction to power query\n",
    "3. Transformation (Duplicates, column remove, row remove, first row as header, create table from the existing table, etc.)\n",
    "4. Creating and managing relationship"
   ]
  },
  {
   "cell_type": "markdown",
   "metadata": {},
   "source": [
    "### Case Study 1: Applying visual level filter\n",
    "\n",
    "1. data transformation and analysis using Excel files to create visual reports and interactive dashboards\n",
    "2. Practical exercises in data transformation"
   ]
  },
  {
   "cell_type": "markdown",
   "metadata": {},
   "source": [
    "### Case Study 2: Reports with filters\n",
    "\n",
    "1. Implement slicers for date selection and filters\n",
    "2. Practical exercises in implementation of slicers and filters"
   ]
  },
  {
   "cell_type": "markdown",
   "metadata": {},
   "source": [
    "---\n",
    "---"
   ]
  },
  {
   "cell_type": "markdown",
   "metadata": {},
   "source": [
    "### Skills for today\n",
    "\n",
    "1. Understand about the standards of formatting\n",
    "2. Customization in visuals and reports\n",
    "3. Explain the application and level of filters\n",
    "4. Comprehending the basics of power query and transformation\n",
    "5. Create and manage relationships betweeen tables\n",
    "\n"
   ]
  },
  {
   "cell_type": "markdown",
   "metadata": {},
   "source": [
    "---\n",
    "---"
   ]
  },
  {
   "cell_type": "markdown",
   "metadata": {},
   "source": [
    "### Task for today\n",
    "\n",
    "Dashboard over some of these visuals on the \"financials\" dataset:\n",
    "\n",
    "1. Bar Chart\n",
    "2. Line Chart\n",
    "3. Pie Chart\n",
    "4. Area Chart\n",
    "5. Scatter Plot\n",
    "6. Treemap\n",
    "7. Gauge\n",
    "8. Card\n",
    "9. Table\n",
    "10. Matrix\n",
    "11. KPI\n",
    "12. Slicer"
   ]
  },
  {
   "cell_type": "markdown",
   "metadata": {},
   "source": [
    "---\n",
    "---"
   ]
  },
  {
   "cell_type": "markdown",
   "metadata": {},
   "source": [
    "# Additional Information\n",
    "\n",
    "---"
   ]
  }
 ],
 "metadata": {
  "language_info": {
   "name": "python"
  }
 },
 "nbformat": 4,
 "nbformat_minor": 2
}
