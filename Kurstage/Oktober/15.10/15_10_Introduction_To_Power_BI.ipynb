{
 "cells": [
  {
   "cell_type": "markdown",
   "metadata": {},
   "source": [
    "# Welcome to Power BI lecture\n",
    "\n",
    "---"
   ]
  },
  {
   "cell_type": "markdown",
   "metadata": {},
   "source": [
    "## Table of contents\n"
   ]
  },
  {
   "cell_type": "markdown",
   "metadata": {},
   "source": [
    "### Brief Introduction to Power BI (9.00 – 10.00 am)\n",
    "\n",
    "1. Learning about different ways to use Power BI\n",
    "2. Getting to know about different layers of Power BI\n",
    "3. Understanding about the various parts of Power BI Desktop\n",
    "\n",
    "##### Helpful Links\n",
    "1. [Online Browser Tutorial by GeeksForGeeks](https://www.geeksforgeeks.org/power-bi-tutorial/)\n",
    "\n",
    "2. [Youtube Tutorial by Avi Singh (5 Million views)](https://www.youtube.com/watch?v=AGrl-H87pRU&t=3s&ab_channel=AviSingh-PowerBIPro)\n",
    "\n",
    "3. [Power BI Cheat Sheet](https://www.datacamp.com/cheat-sheet/power-bi-cheat-sheet)"
   ]
  },
  {
   "cell_type": "markdown",
   "metadata": {},
   "source": [
    "### Creating a simple dashboard (10.15 – 12.00 pm)\n",
    "\n",
    "\n",
    "1. Getting to know about different types of visualization\n",
    "2. Understanding the use of slicers, piechart, cards and donut chart\n",
    "3. Create a simple dashboard from scratch\n",
    "4. Understanding when to use visualization"
   ]
  },
  {
   "cell_type": "markdown",
   "metadata": {},
   "source": [
    "### Case Study 1: Applying different types of charts and investigation (1.00 – 3.00 pm)\n",
    "\n",
    "1. Use of different types of charts with a new power BI report\n",
    "2. Practical exercises in creating reports"
   ]
  },
  {
   "cell_type": "markdown",
   "metadata": {},
   "source": [
    "---\n",
    "---"
   ]
  },
  {
   "cell_type": "markdown",
   "metadata": {},
   "source": [
    "### Skills for today\n",
    "\n",
    "1. Learn about layers of Power BI\n",
    "2. Connect data source\n",
    "3. Explain parts of Power BI tools\n",
    "4. Explain different types of charts and when to use what type of visualization\n",
    "5. Create a simple dashboard\n"
   ]
  },
  {
   "cell_type": "markdown",
   "metadata": {},
   "source": [
    "---\n",
    "---"
   ]
  },
  {
   "cell_type": "markdown",
   "metadata": {},
   "source": [
    "### Task for today\n",
    "\n",
    "Dashboard no formatting necessary, yet not forbidden, \n",
    "over these visuals on the \"financials\" dataset:\n",
    "\n",
    "1. Bar Chart\n",
    "2. Line Chart\n",
    "3. Pie Chart\n",
    "4. Area Chart\n",
    "5. Scatter Plot\n",
    "6. Treemap\n",
    "7. Gauge\n",
    "8. Card\n",
    "9. Table\n",
    "10. Matrix\n",
    "11. KPI\n",
    "12. Slicer"
   ]
  },
  {
   "cell_type": "markdown",
   "metadata": {},
   "source": [
    "<img src=\"Pasted image 20241014220134.png\" alt=\"Alt text\">\n"
   ]
  },
  {
   "cell_type": "markdown",
   "metadata": {},
   "source": [
    "---\n",
    "---"
   ]
  },
  {
   "cell_type": "markdown",
   "metadata": {},
   "source": [
    "# Information regarding upper Tasks\n",
    "\n",
    "---"
   ]
  },
  {
   "cell_type": "markdown",
   "metadata": {},
   "source": [
    "### Installation of Power BI on MAC\n",
    "Installing Power BI on a Mac can be a bit tricky since Microsoft doesn't offer a native version for macOS. However, you can still use Power BI on a Mac through a few different methods. Here’s how you can do it:\n",
    "\n",
    "### Using a Virtual Machine\n",
    "\n",
    "1. **Install Virtualization Software:**\n",
    "   - Download and install a virtualization software like **Parallels Desktop**, **VMware Fusion**, or **VirtualBox**.\n",
    "\n",
    "2. **Set Up Windows:**\n",
    "   - Create a new virtual machine and install Windows. You’ll need a Windows license for this.\n",
    "\n",
    "3. **Install Power BI Desktop:**\n",
    "   - Once Windows is running, open a web browser within the virtual machine.\n",
    "   - Go to the [Power BI Desktop download page](https://powerbi.microsoft.com/desktop/) and download the installer.\n",
    "   - Follow the installation prompts to install Power BI Desktop.\n",
    "\n",
    "https://www.youtube.com/watch?v=yaaYg1EeSTw"
   ]
  },
  {
   "cell_type": "markdown",
   "metadata": {},
   "source": [
    "---\n",
    "---\n",
    "\n",
    "#### 1. Learning about Different Ways to Use Power BI\n",
    "Power BI is a powerful tool that can be used in various ways depending on the user’s needs. Some key use cases include:\n",
    "\n",
    "- **Data Visualization**: Create interactive and dynamic visualizations to help understand data trends and insights.\n",
    "- **Business Reporting**: Automate the generation of reports that update with new data from multiple sources.\n",
    "- **Data Analysis**: Perform deep analysis on large datasets, with easy-to-use features that don't require complex coding knowledge.\n",
    "- **Collaboration**: Share reports and dashboards with your team or stakeholders, and work collaboratively on analyzing and interpreting data.\n",
    "\n",
    "#### 2. Getting to Know the Different Layers of Power BI\n",
    "Power BI has several layers that work together to create a seamless experience for data analysis and visualization. These layers include:\n",
    "\n",
    "- **Data Layer**: The foundation of Power BI, where you connect to various data sources (e.g., Excel, databases, cloud services) and load data for analysis.\n",
    "- **Modeling Layer**: Once the data is loaded, this layer allows you to clean, transform, and model your data (e.g., creating relationships between tables, calculated columns, measures).\n",
    "- **Visualization Layer**: In this layer, you create charts, graphs, maps, and other visuals to represent your data in a meaningful way. Power BI offers a variety of visual types to choose from, and you can customize them for clarity and emphasis.\n",
    "- **Sharing Layer**: Once your reports are ready, Power BI provides options to publish your reports to the web or share them with other users through the Power BI Service.\n",
    "\n",
    "#### 3. Understanding the Various Parts of Power BI Desktop\n",
    "Power BI Desktop is the primary tool for building and designing reports. It consists of several important parts:\n",
    "\n",
    "- **Ribbon**: The top part of Power BI Desktop, containing options for data import, visualization, modeling, and other functionalities.\n",
    "- **Data View**: Allows you to see and manipulate the raw data that has been loaded into Power BI.\n",
    "- **Relationships View**: Lets you define relationships between different tables and datasets. This is crucial for ensuring your data model is structured correctly.\n",
    "- **Report View**: The main canvas where you create and design reports. You can drag and drop fields to create visualizations and arrange them on the page.\n",
    "- **Fields Pane**: Shows all the available data fields, organized by tables. You can use these fields to build your reports.\n",
    "- **Visualizations Pane**: Provides different types of charts and visuals you can use to represent your data.\n",
    "\n"
   ]
  }
 ],
 "metadata": {
  "language_info": {
   "name": "python"
  }
 },
 "nbformat": 4,
 "nbformat_minor": 2
}
