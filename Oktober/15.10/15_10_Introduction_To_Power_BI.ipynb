{
 "cells": [
  {
   "cell_type": "markdown",
   "metadata": {},
   "source": [
    "# Welcome to Power BI lecture\n",
    "\n",
    "---"
   ]
  },
  {
   "cell_type": "markdown",
   "metadata": {},
   "source": [
    "## Table of contents\n"
   ]
  },
  {
   "cell_type": "markdown",
   "metadata": {},
   "source": [
    "### Brief Introduction to Power BI (9.30 – 10.30 am)\n",
    "\n",
    "1. Learning about different ways to use Power BI\n",
    "2. Getting to know about different layers of Power BI\n",
    "3. Understanding about the various parts of Power BI Desktop\n",
    "\n",
    "##### Links\n",
    "1. [Online Browser Tutorial by GeeksForGeeks](https://www.geeksforgeeks.org/power-bi-tutorial/)\n",
    "\n",
    "2. [Youtube Tutorial by Avi Singh (5 Million views)](https://www.youtube.com/watch?v=AGrl-H87pRU&t=3s&ab_channel=AviSingh-PowerBIPro)"
   ]
  },
  {
   "cell_type": "markdown",
   "metadata": {},
   "source": [
    "### Creating a simple dashboard (10.45 – 12.30 pm)\n",
    "\n",
    "\n",
    "1. Getting to know about different types of visualization\n",
    "2. Understanding the use of slicers, piechart, cards and donut chart\n",
    "3. Create a simple dashboard from scratch\n",
    "4. Understanding when to use visualization"
   ]
  },
  {
   "cell_type": "markdown",
   "metadata": {},
   "source": [
    "### Case Study 1: Applying different types of charts and investigation (1.30 – 3.00 pm)\n",
    "\n",
    "1. Use of different types of charts with a new power BI report\n",
    "2. Practical exercises in creating reports"
   ]
  },
  {
   "cell_type": "markdown",
   "metadata": {},
   "source": [
    "---\n",
    "---"
   ]
  },
  {
   "cell_type": "markdown",
   "metadata": {},
   "source": [
    "### Skills for today\n",
    "\n",
    "1. Learn about layers of Power BI\n",
    "2. Connect data source\n",
    "3. Explain parts of Power BI tools\n",
    "4. Explain different types of charts and when to use what type of visualization\n",
    "5. Create a simple dashboard\n"
   ]
  },
  {
   "cell_type": "markdown",
   "metadata": {},
   "source": [
    "---\n",
    "---"
   ]
  },
  {
   "cell_type": "markdown",
   "metadata": {},
   "source": [
    "### Task for today\n",
    "\n",
    "Dashboard no formatting necessary, yet not forbidden, \n",
    "over these visuals on the \"financials\" dataset:\n",
    "\n",
    "1. Bar Chart\n",
    "2. Line Chart\n",
    "3. Pie Chart\n",
    "4. Area Chart\n",
    "5. Scatter Plot\n",
    "6. Treemap\n",
    "7. Gauge\n",
    "8. Card\n",
    "9. Table\n",
    "10. Matrix\n",
    "11. KPI\n",
    "12. Slicer"
   ]
  },
  {
   "cell_type": "markdown",
   "metadata": {},
   "source": [
    "---\n",
    "---"
   ]
  },
  {
   "cell_type": "markdown",
   "metadata": {},
   "source": [
    "# Information regarding upper Tasks\n",
    "\n",
    "---"
   ]
  }
 ],
 "metadata": {
  "language_info": {
   "name": "python"
  }
 },
 "nbformat": 4,
 "nbformat_minor": 2
}
