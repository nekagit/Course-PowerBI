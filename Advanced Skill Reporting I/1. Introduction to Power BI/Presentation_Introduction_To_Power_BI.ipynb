{
 "cells": [
  {
   "cell_type": "markdown",
   "metadata": {},
   "source": [
    "# Welcome to Power BI lecture\n",
    "\n",
    "---"
   ]
  },
  {
   "cell_type": "markdown",
   "metadata": {},
   "source": [
    "## Table of contents\n"
   ]
  },
  {
   "cell_type": "markdown",
   "metadata": {},
   "source": [
    "### Brief Introduction to Power BI (9.00 – 10.00 am)\n",
    "\n",
    "1. Learning about different ways to use Power BI\n",
    "2. Getting to know about different layers of Power BI\n",
    "3. Understanding about the various parts of Power BI Desktop\n",
    "\n",
    "##### Helpful Links\n",
    "1. [Online Browser Tutorial by GeeksForGeeks](https://www.geeksforgeeks.org/power-bi-tutorial/)\n",
    "\n",
    "2. [Youtube Tutorial by Avi Singh (5 Million views)](https://www.youtube.com/watch?v=AGrl-H87pRU&t=3s&ab_channel=AviSingh-PowerBIPro)\n",
    "\n",
    "3. [Power BI Cheat Sheet](https://www.datacamp.com/cheat-sheet/power-bi-cheat-sheet)"
   ]
  },
  {
   "cell_type": "markdown",
   "metadata": {},
   "source": [
    "### Creating a simple dashboard (10.15 – 12.00 pm)\n",
    "\n",
    "\n",
    "1. Getting to know about different types of visualization\n",
    "2. Understanding the use of slicers, piechart, cards and donut chart\n",
    "3. Create a simple dashboard from scratch\n",
    "4. Understanding when to use visualization"
   ]
  },
  {
   "cell_type": "markdown",
   "metadata": {},
   "source": [
    "### Case Study 1: Applying different types of charts and investigation (1.00 – 3.00 pm)\n",
    "\n",
    "1. Use of different types of charts with a new power BI report\n",
    "2. Practical exercises in creating reports"
   ]
  },
  {
   "cell_type": "markdown",
   "metadata": {},
   "source": [
    "---\n",
    "---"
   ]
  },
  {
   "cell_type": "markdown",
   "metadata": {},
   "source": [
    "### Skills for today\n",
    "\n",
    "1. Learn about layers of Power BI\n",
    "2. Connect data source\n",
    "3. Explain parts of Power BI tools\n",
    "4. Explain different types of charts and when to use what type of visualization\n",
    "5. Create a simple dashboard\n",
    "\n",
    "---\n",
    "### Skills second part\n",
    "\n",
    "1. Learn connection methods and performance issues\n",
    "2. Understand storage modes\n",
    "3. Explain data shape transformations\n",
    "4. Increase the structure of data\n",
    "5. Profile and examine the data"
   ]
  },
  {
   "cell_type": "markdown",
   "metadata": {},
   "source": [
    "---\n",
    "---"
   ]
  },
  {
   "cell_type": "markdown",
   "metadata": {},
   "source": [
    "### Task for today\n",
    "\n",
    "Dashboard no formatting necessary, yet not forbidden, \n",
    "over these visuals on the \"financials\" dataset:\n",
    "\n",
    "1. Bar Chart\n",
    "2. Line Chart\n",
    "3. Pie Chart\n",
    "4. Area Chart\n",
    "5. Scatter Plot\n",
    "6. Treemap\n",
    "7. Gauge\n",
    "8. Card\n",
    "9. Table\n",
    "10. Matrix\n",
    "11. KPI\n",
    "12. Slicer"
   ]
  },
  {
   "cell_type": "markdown",
   "metadata": {},
   "source": [
    "<img src=\"Pasted image 20241014220134.png\" alt=\"Alt text\">\n"
   ]
  },
  {
   "cell_type": "markdown",
   "metadata": {},
   "source": [
    "---\n",
    "---"
   ]
  },
  {
   "cell_type": "markdown",
   "metadata": {},
   "source": [
    "# Information regarding upper Tasks\n",
    "\n",
    "---"
   ]
  },
  {
   "cell_type": "markdown",
   "metadata": {},
   "source": [
    "### Installation of Power BI on MAC\n",
    "Installing Power BI on a Mac can be a bit tricky since Microsoft doesn't offer a native version for macOS. However, you can still use Power BI on a Mac through a few different methods. Here’s how you can do it:\n",
    "\n",
    "### Using a Virtual Machine\n",
    "\n",
    "1. **Install Virtualization Software:**\n",
    "   - Download and install a virtualization software like **Parallels Desktop**, **VMware Fusion**, or **VirtualBox**.\n",
    "\n",
    "2. **Set Up Windows:**\n",
    "   - Create a new virtual machine and install Windows. You’ll need a Windows license for this.\n",
    "\n",
    "3. **Install Power BI Desktop:**\n",
    "   - Once Windows is running, open a web browser within the virtual machine.\n",
    "   - Go to the [Power BI Desktop download page](https://powerbi.microsoft.com/desktop/) and download the installer.\n",
    "   - Follow the installation prompts to install Power BI Desktop.\n",
    "\n",
    "https://www.youtube.com/watch?v=yaaYg1EeSTw"
   ]
  },
  {
   "cell_type": "markdown",
   "metadata": {},
   "source": [
    "---\n",
    "---\n",
    "\n",
    "#### 1. Learning about Different Ways to Use Power BI\n",
    "Power BI is a powerful tool that can be used in various ways depending on the user’s needs. Some key use cases include:\n",
    "\n",
    "- **Data Visualization**: Create interactive and dynamic visualizations to help understand data trends and insights.\n",
    "- **Business Reporting**: Automate the generation of reports that update with new data from multiple sources.\n",
    "- **Data Analysis**: Perform deep analysis on large datasets, with easy-to-use features that don't require complex coding knowledge.\n",
    "- **Collaboration**: Share reports and dashboards with your team or stakeholders, and work collaboratively on analyzing and interpreting data.\n",
    "\n",
    "#### 2. Getting to Know the Different Layers of Power BI\n",
    "Power BI has several layers that work together to create a seamless experience for data analysis and visualization. These layers include:\n",
    "\n",
    "- **Data Layer**: The foundation of Power BI, where you connect to various data sources (e.g., Excel, databases, cloud services) and load data for analysis.\n",
    "- **Modeling Layer**: Once the data is loaded, this layer allows you to clean, transform, and model your data (e.g., creating relationships between tables, calculated columns, measures).\n",
    "- **Visualization Layer**: In this layer, you create charts, graphs, maps, and other visuals to represent your data in a meaningful way. Power BI offers a variety of visual types to choose from, and you can customize them for clarity and emphasis.\n",
    "- **Sharing Layer**: Once your reports are ready, Power BI provides options to publish your reports to the web or share them with other users through the Power BI Service.\n",
    "\n",
    "#### 3. Understanding the Various Parts of Power BI Desktop\n",
    "Power BI Desktop is the primary tool for building and designing reports. It consists of several important parts:\n",
    "\n",
    "- **Ribbon**: The top part of Power BI Desktop, containing options for data import, visualization, modeling, and other functionalities.\n",
    "- **Data View**: Allows you to see and manipulate the raw data that has been loaded into Power BI.\n",
    "- **Relationships View**: Lets you define relationships between different tables and datasets. This is crucial for ensuring your data model is structured correctly.\n",
    "- **Report View**: The main canvas where you create and design reports. You can drag and drop fields to create visualizations and arrange them on the page.\n",
    "- **Fields Pane**: Shows all the available data fields, organized by tables. You can use these fields to build your reports.\n",
    "- **Visualizations Pane**: Provides different types of charts and visuals you can use to represent your data.\n",
    "\n",
    "---"
   ]
  },
  {
   "cell_type": "markdown",
   "metadata": {},
   "source": [
    "## Information regarding second part\n",
    "\n",
    "\n",
    "### Power BI Beginner's Guide: Key Concepts & Techniques\n",
    "\n",
    "## 1. **Connecting to Data & Performance Considerations**\n",
    "   - **Connecting to Data Sources**:  \n",
    "      Power BI allows you to connect to various data sources like Excel, SQL databases, cloud services, and more. Go to *Home > Get Data* and select your source.\n",
    "   - **Types of Connections**:  \n",
    "     - **Import**: Data is imported directly into Power BI. Best for smaller datasets or when offline analysis is required.\n",
    "     - **Direct Query**: Connects live to the data source. Use this for large datasets or real-time updates but remember it can be slower for complex queries.\n",
    "   - **Performance Tips**:  \n",
    "     - Limit the number of columns and rows you import.\n",
    "     - Avoid complex transformations during import if possible; handle these in the data source.\n",
    "     - Use relationships and DAX measures to optimize complex calculations.\n",
    "\n",
    "## 2. **Understanding Storage Modes**\n",
    "   - Import Mode: Stores data in Power BI’s in-memory cache. Fast for analysis, but data is static unless refreshed.\n",
    "   - Direct Query Mode: Queries the data directly from the source each time, reflecting real-time changes but may be slower for large datasets.\n",
    "   - Dual Mode: Combines Import and Direct Query, offering flexibility in scenarios where some data needs real-time updates and other data doesn’t.\n",
    "\n",
    "## 3. **Data Shaping Transformations**\n",
    "   - **Accessing Power Query**: Use *Transform Data* to enter Power Query, where data can be reshaped before loading.\n",
    "   - **Common Data Transformations**:\n",
    "     - **Remove Unnecessary Columns**: Keep only relevant columns to save memory.\n",
    "     - **Filter Rows**: Keep only the rows that matter.\n",
    "     - **Data Type Changes**: Correct data types (e.g., Date, Number, Text) for accurate calculations and display.\n",
    "     - **Split Columns and Merge Columns**: Clean data for consistency (e.g., splitting \"First Last\" into two columns).\n",
    "   - **Applied Steps**: Every action is recorded in the *Applied Steps* pane, so you can track and modify transformations.\n",
    "\n",
    "## 4. **Enhancing Data Structure**\n",
    "   - **Creating Relationships**:  \n",
    "     Go to *Model* view to define relationships between tables. This helps Power BI understand connections and allows for calculations across different tables.\n",
    "   - **Adding Calculated Columns and Measures**:  \n",
    "     - Use DAX (Data Analysis Expressions) to create calculated columns (values calculated for each row) and measures (aggregate calculations).\n",
    "     - Example of a Measure: `Total Sales = SUM(Sales[Amount])`.\n",
    "   - **Data Hierarchies**:  \n",
    "     - Set up hierarchies (like Year > Quarter > Month) for intuitive drill-downs in reports.\n",
    "\n",
    "## 5. **Data Profiling & Examination**\n",
    "   - **Data Profiling in Power Query**:  \n",
    "     Use features like *Column Distribution*, *Column Quality*, and *Column Profile* to understand the data.\n",
    "     - **Column Distribution**: Shows frequency distribution of values in each column.\n",
    "     - **Column Quality**: Identifies errors, empty values, and valid values in columns.\n",
    "     - **Column Profile**: Displays statistics about data in a selected column, helping identify outliers.\n",
    "   - **Visual Inspection**:  \n",
    "     Visualize data distributions through charts and graphs to detect patterns, trends, or inconsistencies.\n",
    "\n"
   ]
  }
 ],
 "metadata": {
  "language_info": {
   "name": "python"
  }
 },
 "nbformat": 4,
 "nbformat_minor": 2
}
